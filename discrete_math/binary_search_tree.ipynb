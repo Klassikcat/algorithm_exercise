{
 "cells": [
  {
   "cell_type": "code",
   "execution_count": 12,
   "metadata": {
    "collapsed": true
   },
   "outputs": [],
   "source": [
    "class Node(object):\n",
    "    def __init__(self, key: int):\n",
    "        super().__init__()\n",
    "        self.key = key\n",
    "        self.left = None\n",
    "        self.right = None\n",
    "\n",
    "\n",
    "class BinarySearchTree(object):\n",
    "    def __init__(self, root: int):\n",
    "        super().__init__()\n",
    "        self.root = Node(root)\n",
    "\n",
    "    def insert(self, value: int):\n",
    "        current_node = self.root\n",
    "        while True:\n",
    "            if value < current_node.key:\n",
    "                if current_node.left != None:\n",
    "                    current_node = current_node.left\n",
    "                else:\n",
    "                    current_node.left = Node(value)\n",
    "                    break\n",
    "            elif value > current_node.key:\n",
    "                if current_node.right != None:\n",
    "                    current_node = current_node.right\n",
    "                else:\n",
    "                    current_node.right = Node(value)\n",
    "                    break\n",
    "\n",
    "    def search(self, value: int, search_node: Node = None):\n",
    "        \"\"\"\n",
    "        Search for a value in the tree by recursive mechanism.\n",
    "\n",
    "        :param value: int, value to find in a binary tree.\n",
    "        :param search_node: int, current search node.\n",
    "        :return: integer number of key.\n",
    "        \"\"\"\n",
    "        if search_node == None:\n",
    "            search_node = self.root\n",
    "        if search_node.key == value:\n",
    "            return search_node.key\n",
    "        elif search_node.key > value:\n",
    "            if search_node.left != None:\n",
    "                return self.search(value, search_node.left)\n",
    "            else:\n",
    "                print(\"Key {} not found\".format(value))\n",
    "                raise KeyError\n",
    "        elif search_node.key < value:\n",
    "            if search_node.right != None:\n",
    "                return self.search(value, search_node.right)\n",
    "            else:\n",
    "                print(\"Key {} not found\".format(value))\n",
    "                raise KeyError\n",
    "\n",
    "    def search_non_reculsive(self, value: int):\n",
    "        search_node = self.root\n",
    "        while True:\n",
    "            if search_node.key == value:\n",
    "                return search_node.key\n",
    "            elif search_node.key > value:\n",
    "                if search_node.left != None:\n",
    "                    search_node = search_node.left\n",
    "                else:\n",
    "                    print(\"Key {} not found\".format(value))\n",
    "                    raise KeyError\n",
    "            elif search_node.key < value:\n",
    "                if search_node.right != None:\n",
    "                    search_node = search_node.right\n",
    "                else:\n",
    "                    print(\"Key {} not found\".format(value))\n",
    "                    raise KeyError\n",
    "\n",
    "\n",
    "tree = BinarySearchTree(12)\n",
    "tree.insert(13)\n",
    "tree.insert(17)\n",
    "tree.insert(11)\n",
    "tree.insert(6)\n",
    "tree.insert(5)\n",
    "tree.insert(3)"
   ]
  },
  {
   "cell_type": "code",
   "execution_count": 13,
   "outputs": [
    {
     "data": {
      "text/plain": "6"
     },
     "execution_count": 13,
     "metadata": {},
     "output_type": "execute_result"
    }
   ],
   "source": [
    "tree.search(6)"
   ],
   "metadata": {
    "collapsed": false,
    "pycharm": {
     "name": "#%%\n"
    }
   }
  },
  {
   "cell_type": "code",
   "execution_count": 17,
   "outputs": [
    {
     "data": {
      "text/plain": "6"
     },
     "execution_count": 17,
     "metadata": {},
     "output_type": "execute_result"
    }
   ],
   "source": [
    "tree.search_non_reculsive(6)"
   ],
   "metadata": {
    "collapsed": false,
    "pycharm": {
     "name": "#%%\n"
    }
   }
  },
  {
   "cell_type": "code",
   "execution_count": null,
   "outputs": [],
   "source": [],
   "metadata": {
    "collapsed": false,
    "pycharm": {
     "name": "#%%\n"
    }
   }
  }
 ],
 "metadata": {
  "kernelspec": {
   "display_name": "Python 3",
   "language": "python",
   "name": "python3"
  },
  "language_info": {
   "codemirror_mode": {
    "name": "ipython",
    "version": 2
   },
   "file_extension": ".py",
   "mimetype": "text/x-python",
   "name": "python",
   "nbconvert_exporter": "python",
   "pygments_lexer": "ipython2",
   "version": "2.7.6"
  }
 },
 "nbformat": 4,
 "nbformat_minor": 0
}